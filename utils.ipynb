{
 "cells": [
  {
   "cell_type": "code",
   "execution_count": 9,
   "metadata": {},
   "outputs": [],
   "source": [
    "import numpy as np\n",
    "import scipy.integrate as integrate\n",
    "import matplotlib.pyplot as plt\n",
    "\n",
    "# Local imports\n",
    "import import_ipynb\n",
    "import model"
   ]
  },
  {
   "cell_type": "code",
   "execution_count": 10,
   "metadata": {},
   "outputs": [],
   "source": [
    "def solve(robot: model.RobotIface, ode_system, control, state_from:np.array, time_from=0, time_to=20) -> (np.array, np.matrix, np.matrix, np.matrix):\n",
    "    time_grid = np.linspace(time_from, time_to, 1000)\n",
    "    ode_solver = integrate.ode(ode_system(control))\n",
    "    ode_solver.set_integrator('vode', method='bdf', order=15, nsteps=3000)\n",
    "    ode_solver.set_initial_value(state_from, time_from)\n",
    "\n",
    "    end_effectors = np.zeros((len(time_grid), 3)); controls = np.zeros_like(end_effectors)\n",
    "    params = np.zeros((len(time_grid), state_from.shape[0] - 6))\n",
    "    for i in range(len(time_grid)):\n",
    "        state = state_from\n",
    "        if i>0:\n",
    "            state = ode_solver.integrate(time_grid[i])\n",
    "        end_effectors[i, :] = np.squeeze(robot.forward_kinematics(state))\n",
    "        controls[i, :] = np.squeeze(robot.jacobian(state).T @ control(state, time_grid[i]))\n",
    "        params[i, :] = state[6:]\n",
    "    return time_grid, end_effectors, controls, params"
   ]
  },
  {
   "cell_type": "code",
   "execution_count": 11,
   "metadata": {},
   "outputs": [],
   "source": [
    "def plot_3d(grid:np.array, mesh:np.matrix, grid_name='t', mesh_name='x'):\n",
    "    figure = plt.figure(figsize=(20, 20))\n",
    "    \n",
    "    one   = figure.add_subplot(2, 2, 1); one.set(title=\"$\"+mesh_name+\"_1$\", xlabel=grid_name);   one.plot(grid, mesh[:, 0]);   one.grid('on')\n",
    "    two   = figure.add_subplot(2, 2, 2); two.set(title=\"$\"+mesh_name+\"_2$\", xlabel=grid_name);   two.plot(grid, mesh[:, 1]);   two.grid('on')\n",
    "    three = figure.add_subplot(2, 2, 3); three.set(title=\"$\"+mesh_name+\"_3$\", xlabel=grid_name); three.plot(grid, mesh[:, 2]); three.grid('on')\n",
    "    four  = figure.add_subplot(2, 2, 4, projection='3d')\n",
    "    four.set(title = 'Trajectory', xlabel=\"$\"+mesh_name+\"_1$\", ylabel=\"$\"+mesh_name+\"_2$\", zlabel=\"$\"+mesh_name+\"_3$\")\n",
    "    four.plot(mesh[:, 0], mesh[:, 1], mesh[:, 2], linewidth=2)\n",
    "    \n",
    "    return (figure, (one, two, three, four))"
   ]
  }
 ],
 "metadata": {
  "kernelspec": {
   "display_name": "Python 3.10.4 ('venv': venv)",
   "language": "python",
   "name": "python3"
  },
  "language_info": {
   "codemirror_mode": {
    "name": "ipython",
    "version": 3
   },
   "file_extension": ".py",
   "mimetype": "text/x-python",
   "name": "python",
   "nbconvert_exporter": "python",
   "pygments_lexer": "ipython3",
   "version": "3.10.4"
  },
  "orig_nbformat": 4,
  "vscode": {
   "interpreter": {
    "hash": "4ec12f765a42e297713794311ccba18a6a47827386d1012ed1cab9daaa81ed65"
   }
  }
 },
 "nbformat": 4,
 "nbformat_minor": 2
}
